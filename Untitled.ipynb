{
 "cells": [
  {
   "cell_type": "code",
   "execution_count": null,
   "metadata": {
    "collapsed": true,
    "scrolled": true
   },
   "outputs": [],
   "source": [
    "import pandas as pd\n",
    "\n",
    "data=pd.read_csv('/home/local/ASUAD/wzhan139/Dropbox (ASU)/Project_Code/GAT/RESTRICTED_zhangtianer521_10_2_2019_22_22_44.csv')\n",
    "\n",
    "data.describe()"
   ]
  },
  {
   "cell_type": "code",
   "execution_count": null,
   "metadata": {
    "collapsed": true
   },
   "outputs": [],
   "source": [
    "import pandas_profiling\n",
    "\n",
    "profile=data.profile_report(title='HCP data')\n",
    "profile.to_file(output_file='/home/local/ASUAD/wzhan139/Dropbox (ASU)/Project_Code/GAT/HCP_report.html')"
   ]
  },
  {
   "cell_type": "code",
   "execution_count": 19,
   "metadata": {},
   "outputs": [],
   "source": [
    "import csv\n",
    "\n",
    "subj_age={}\n",
    "with open('/home/local/ASUAD/wzhan139/Dropbox (ASU)/Project_Code/GAT/RESTRICTED_zhangtianer521_10_2_2019_22_22_44.csv', newline='') as csvfile:\n",
    "    spamreader = csv.reader(csvfile, delimiter=',')\n",
    "    for row in spamreader:\n",
    "        if 'Subject' in row[0]: continue\n",
    "        subj_age[row[0]]=row[1]\n",
    "# print(subj_age)\n",
    "\n",
    "correct_label={}\n",
    "with open('/home/local/ASUAD/wzhan139/Dropbox (ASU)/Project_Code/GAT/Data_BNF/HCP/labels_age.csv', newline='') as csvfile:\n",
    "    spamreader = csv.reader(csvfile, delimiter=',')\n",
    "    for row in spamreader:\n",
    "        if 'id' in row[0]: continue\n",
    "        correct_label[row[0]]=subj_age[row[0]]\n",
    "\n",
    "with open('/home/local/ASUAD/wzhan139/Dropbox (ASU)/Project_Code/GAT/Data_BNF/HCP/labels_age.csv', 'w', newline='') as csvfile:\n",
    "    spamwriter = csv.writer(csvfile, delimiter=',')\n",
    "    spamwriter.writerow(['id','labels'])\n",
    "    for i in sorted(correct_label.keys()):\n",
    "        spamwriter.writerow([i,correct_label[i]])\n"
   ]
  },
  {
   "cell_type": "code",
   "execution_count": null,
   "metadata": {
    "collapsed": true
   },
   "outputs": [],
   "source": []
  }
 ],
 "metadata": {
  "kernelspec": {
   "display_name": "Python 3",
   "language": "python",
   "name": "python3"
  }
 },
 "nbformat": 4,
 "nbformat_minor": 2
}
